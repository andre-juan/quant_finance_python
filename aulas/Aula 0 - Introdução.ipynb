{
 "cells": [
  {
   "cell_type": "markdown",
   "metadata": {},
   "source": [
    "# Quantitative Finance with Python\n",
    "\n",
    "Bem-vindos ao curso!\n",
    "\n",
    "Hoje iniciamos nossa jornada no maravilhoso mundo da Ciência de Dados aplicada ao mercado financeiro (ou então, no mundo de Finanças Quantitativas!)\n",
    "\n",
    "Neste curso, utilizaremos **Python** para fazer todas as tarefas!\n",
    "\n",
    "Mas antes de começarmos a programar, vamos nos familiarizar um pouquinho mais com alguns dos termos utilizados na área!"
   ]
  },
  {
   "cell_type": "markdown",
   "metadata": {},
   "source": [
    "____"
   ]
  },
  {
   "cell_type": "markdown",
   "metadata": {},
   "source": [
    "## Data science\n",
    "\n",
    "Como o próprio nome diz, o termo **data science** se refere a um conjunto de técnicas e ferramentas utilizadas para o estudo de **dados**.\n",
    "\n",
    "O mundo é repleto de **dados**...\n",
    "\n",
    "...e os dados **contêm muita informação**...\n",
    "\n",
    "...e informação é vital para todo **negócio**...\n",
    "\n",
    "...para a **tomada de decisão** e **produção de novos insights**!\n",
    "\n",
    "Como fazer isso?\n",
    "\n",
    "__Com as técnicas que aprenderemos aqui! :)__\n",
    "\n",
    "Ciência de dados é uma área interdisciplinar baseada em três pilares, conforme a imagem abaixo:\n",
    "\n",
    "<img src=https://s3.amazonaws.com/uploads.hotmart.com/blog/2018/04/data-science-1.png>"
   ]
  },
  {
   "cell_type": "markdown",
   "metadata": {},
   "source": [
    "___"
   ]
  },
  {
   "cell_type": "markdown",
   "metadata": {},
   "source": [
    "## A jornada de um projeto de Data Science\n",
    "\n",
    "O trabalho de um cientista de dados é dividido, essencialmente, nas seguintes etapas:\n",
    "\n",
    "- 0) Formulação do problema;\n",
    "- 1) Ingestão dos dados;\n",
    "- 2) Preparação dos dados;\n",
    "- 3) Exploração dos dados;\n",
    "- 4) Modelagem;\n",
    "- 5) Apresentação ou deploy;\n",
    "\n",
    "Depois da etapa 0), aa mais trabalhosaa (e que provavelmente mais vai levar tempo) sção de 2) a 3)!\n",
    "*\n",
    "E há quem diga que estas são as etapas mais importantes! **(Garbage in, garabage out!)**"
   ]
  },
  {
   "cell_type": "markdown",
   "metadata": {},
   "source": [
    "<img src=\"https://www.abgconsultoria.com.br/blog/wp-content/uploads/img33-768x242.png\" width=700>"
   ]
  },
  {
   "cell_type": "markdown",
   "metadata": {},
   "source": [
    "<img src=\"https://www.researchgate.net/profile/Eduardo_Garcia_Del_Valle/publication/327612291/figure/fig4/AS:670200676511747@1536799701256/Sequence-of-functional-units-of-a-data-science-pipeline-including-data.ppm\" width=700>"
   ]
  },
  {
   "cell_type": "markdown",
   "metadata": {},
   "source": [
    "<img src=\"https://www.xtivia.com/media/Data_Science_Pipeline.png\" width=700>"
   ]
  },
  {
   "cell_type": "markdown",
   "metadata": {},
   "source": [
    "Neste curso, focaremos no core da área: de 1) a 4). \n",
    "\n",
    "E vamos treinar bastante para que o processo acima aos poucos se torne natural!"
   ]
  },
  {
   "cell_type": "markdown",
   "metadata": {},
   "source": [
    "Como dito acima, os passos até o 3) são talvez os mais importantes da jornada, mas não é incomum que muita gente goste bastante da etapa 4)! Vamos dar uma olhadinha?"
   ]
  },
  {
   "cell_type": "markdown",
   "metadata": {},
   "source": [
    "## Inteligência Artificial\n",
    "\n",
    "É a área que estuda sistemas computacionais **capazes de realizar tarefas que normalmente exigiriam interferência ou ação humana**\n",
    "\n",
    "<img src=\"https://www.researchgate.net/profile/Ma_Louella_Salenga/publication/324183626/figure/fig1/AS:611807588798464@1522877704466/Fields-of-artificial-intelligence-10.png\" width=650>\n"
   ]
  },
  {
   "cell_type": "markdown",
   "metadata": {},
   "source": [
    "____"
   ]
  },
  {
   "cell_type": "markdown",
   "metadata": {},
   "source": [
    "## Machine Learning\n",
    "\n",
    "A **aprendizagem de máquina** se divide em três grandes áreas:\n",
    "\n",
    "<img src=\"https://i.pinimg.com/originals/67/70/5d/67705d8c7aee0c6b601c16548076e924.png\" width=700>"
   ]
  },
  {
   "cell_type": "markdown",
   "metadata": {},
   "source": [
    "____"
   ]
  },
  {
   "cell_type": "markdown",
   "metadata": {},
   "source": [
    "## Em resumo:"
   ]
  },
  {
   "cell_type": "markdown",
   "metadata": {},
   "source": [
    "<img src=\"https://miro.medium.com/max/1000/1*_0A4I9mXjl6H0Qw401qWRg.png\" width=600>"
   ]
  },
  {
   "cell_type": "markdown",
   "metadata": {},
   "source": [
    "____"
   ]
  },
  {
   "cell_type": "markdown",
   "metadata": {},
   "source": [
    "## Séries Temporais\n",
    "\n",
    "**Análise de séries temporais**\n",
    "\n",
    "Entenderemos conceitualmente o que é uma série temporal, e como estudar seus elementos (autocorrelação, sazonalidade, tendência, etc.)\n",
    "\n",
    "<img src=\"https://www.researchgate.net/publication/325791844/figure/fig2/AS:637840161505281@1529084353866/Trend-and-Correlation-Analysis-for-different-time-series-a-b-and-c-show-the-trend-of.png\" width=500>\n",
    "\n",
    "**Previsão de séries temporais (forecasting)**\n",
    "\n",
    "Após entendermos o básico sobre séries temporais, vamos falar sobre modelos de regressão, e, especificamente, modelos de forecasting de séries temporais (AR, AM, ARMA, ARIMA, ARCH, GARCH, etc.\n",
    "\n",
    "<img src=\"https://miro.medium.com/max/2536/1*jsH1GTsExdh2n0uM4geo3Q.png\" width=700>"
   ]
  },
  {
   "cell_type": "markdown",
   "metadata": {},
   "source": [
    "____"
   ]
  },
  {
   "cell_type": "markdown",
   "metadata": {},
   "source": [
    "## Gerenciamento de portfolios\n",
    "\n",
    "Analisaremos séries temporais de **retornos de ativos financeiros**, nos preocupando em analisar **sua distribuição**, de modo a apoiar a **gestão de riscos** tanto de ativos individuais quanto de um portfolio composto de mais de um ativo.\n",
    "\n",
    "<img src=\"https://static.seekingalpha.com/uploads/2017/2/35609635_14882956494237_rId6.png\" width=400>\n",
    "\n",
    "<img src=\"https://i2.wp.com/blogs.cfainstitute.org/investor/files/2014/08/MSCI-EM-Total-Return.png\" width=500>"
   ]
  },
  {
   "cell_type": "markdown",
   "metadata": {},
   "source": [
    "____"
   ]
  }
 ],
 "metadata": {
  "kernelspec": {
   "display_name": "Python 3",
   "language": "python",
   "name": "python3"
  },
  "language_info": {
   "codemirror_mode": {
    "name": "ipython",
    "version": 3
   },
   "file_extension": ".py",
   "mimetype": "text/x-python",
   "name": "python",
   "nbconvert_exporter": "python",
   "pygments_lexer": "ipython3",
   "version": "3.7.6"
  }
 },
 "nbformat": 4,
 "nbformat_minor": 4
}
