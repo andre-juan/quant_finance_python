{
 "cells": [
  {
   "cell_type": "markdown",
   "metadata": {},
   "source": [
    "# Aula 3 - Estatística Descritiva e Probabilidade\n",
    "\n",
    "Na aula de hoje, vamos explorar os seguintes tópicos em Python:\n",
    "\n",
    "- 1) Introdução\n",
    "- 2) Probabilidade\n",
    "    - 2.1) Testes de normalidade\n",
    "- 3) Estatística Descritiva\n"
   ]
  },
  {
   "cell_type": "markdown",
   "metadata": {},
   "source": [
    "___\n",
    "___\n",
    "___"
   ]
  },
  {
   "cell_type": "markdown",
   "metadata": {},
   "source": [
    "## 1) Introdução\n",
    "\n",
    "Hoje iniciaremos nossa introdução a **Probabilidade e Estatística**.\n",
    "\n",
    "Essas duas áreas são extremamente amplas, e fornecem toda a base da ciência de dados. Por isso, vamos dar uma olhada nos principais conceitos!\n",
    "\n",
    "A probabilidade e estatística podem ser dividias nos seguintes três pilares:\n",
    "\n",
    "**Probabilidade**: é a teoria matemática utilizada para se estudar a incerteza oriundas de `fenômenos`de caráter aleátorio.\n",
    "\n",
    "**Estatística Descritiva**: Etapa inicial da análise estatística, tendo como objetivo tirar informações prévias de modo informal e direto. A ideia é obter informações que `resumam` o conjuto de dados, a fim que estes possam ser `descritos`, e conclusões iniciais possam ser tiradas.\n",
    "\n",
    "    - Já usamos várias dessas técnicas (sem saber explicitamente) no processo de EDA (exploratory data analysis)!\n",
    "\n",
    "**Inferência estatística**: É o conjunto de técnicas que possibilitam a extrapolação de conclusões tiradas a partir de um conjunto pequeno de dados (denominado `amostra`) para todo o universo sob análise (denominado (`população`).\n",
    "\n",
    "<img src=\"https://phhp-faculty-cantrell.sites.medinfo.ufl.edu/files/2012/07/mod10-big_picture_inference.gif\" width=\"600\">"
   ]
  },
  {
   "cell_type": "markdown",
   "metadata": {},
   "source": [
    "Vamos começar com os códigos!"
   ]
  },
  {
   "cell_type": "code",
   "execution_count": 1,
   "metadata": {},
   "outputs": [],
   "source": [
    "import numpy as np\n",
    "import pandas as pd\n",
    "\n",
    "import matplotlib.pyplot as plt\n",
    "%matplotlib inline\n",
    "\n",
    "import seaborn as sns"
   ]
  },
  {
   "cell_type": "markdown",
   "metadata": {},
   "source": [
    "___\n",
    "___\n",
    "___"
   ]
  },
  {
   "cell_type": "markdown",
   "metadata": {},
   "source": [
    "## 2) Probabilidade\n",
    "\n",
    "Probabilidade é a área da matemática que estuda **eventos aleatórios**, cujos resultados são **probabilísticos** ou **estocásticos**.\n",
    "\n",
    "Existem poucos sistemas na natureza que são de fato inerentemente aleatórias e não-determinísticas. No entanto, uma descrição determinística pode ser muito complicada, de modo que **se torna conveniente** tratar o sistema como um sistema estocástico.\n",
    "\n",
    "Ex.: lanaçamento de moeda, lançamento de dados, etc.\n",
    "\n",
    "O objetivo da estatística é similar: analisar dados ou criar modelos que **generalizem relações** que não podem ser determinadas diretamente uma vez que não temos acesso à população. Neste sentido, há muita probabilidade envolvida em estatística, e é por isso que vamos olhar para os principais conceitos de probabilidade."
   ]
  },
  {
   "cell_type": "markdown",
   "metadata": {},
   "source": [
    "_____"
   ]
  },
  {
   "cell_type": "markdown",
   "metadata": {},
   "source": [
    "### 2.1) Variável aleatória\n",
    "\n",
    "Uma **variável aleatória** é uma variável cujo valor depende de fatores **não-deterministícos**, isto é, **probabilísticos**. \n",
    "\n",
    "**Exemplo**: resultado do lançamento de um dado."
   ]
  },
  {
   "cell_type": "markdown",
   "metadata": {},
   "source": [
    "_____"
   ]
  },
  {
   "cell_type": "markdown",
   "metadata": {},
   "source": [
    "### 2.2) Definição de probabilidade\n",
    "\n",
    "Definimos uma função $P(.)$ denominada **probabilidade** que deve satisfazer as seguintes propriedades:\n",
    "    \n",
    "- $0\\leq P(A) \\leq 1$ \n",
    "\n",
    "- $ P(\\omega)=1$\n",
    "\n",
    "- $ P(\\cup A_{j})= \\sum_{j=1}^{n}P(A_{j})$"
   ]
  },
  {
   "cell_type": "markdown",
   "metadata": {},
   "source": [
    "_____"
   ]
  },
  {
   "cell_type": "markdown",
   "metadata": {},
   "source": [
    "### 2.3) Distribuições de probabilidade\n",
    "\n",
    "Uma **distribuição de probabilidade** é uma função que descreve o comportamento aleatório de um fenômeno dependente do acaso.\n",
    "\n",
    "A distribuição de probabilidade pode **modelar incertezas** e descrever fenômenos físicos, biológicos, econômicos, entre outros.\n",
    "\n",
    "Para representar a distribuição matematicamente, frequentemente utilizamos a [função densidade de probabilidade](https://en.wikipedia.org/wiki/Probability_density_function). Esta função é tal que a probabilidade da variável aleatória cair em uma faixa particular é dada **pela integral da densidade dessa variável sobre tal faixa** - isto é, é dada pela área abaixo da função densidade mas acima do eixo horizontal e entre o menor e o maior valor dessa faixa.\n",
    "\n",
    "<img src=\"https://work.thaslwanter.at/Stats/html/_images/PDF.png\" width=400>\n",
    "\n",
    "Há muitas distribuições de probabilidade diferentes.\n",
    "\n",
    "Entre as distribuições de probabilidade, a **distribuição normal** tem uma importância particular. De acordo com o **teorema central do limite**, a distribuição normal captura o **comportamento assintótico** de várias outras distribuições de probabilidade."
   ]
  },
  {
   "cell_type": "markdown",
   "metadata": {},
   "source": [
    "____"
   ]
  },
  {
   "cell_type": "markdown",
   "metadata": {
    "colab_type": "text",
    "id": "dsD4SeUw0TFU"
   },
   "source": [
    "**2.3.1) Distribuição Normal**\n",
    "\n",
    "É representada por uma **curva simétrica em torno do seu ponto médio**, apresentando assim seu famoso formato de **sino** (bell shape).  \n",
    "\n",
    "A curva de distribuição normal representa o comportamento de **diversos processos e fenômenos comuns**, como por exemplo: altura ou peso de uma população, a pressão sanguínea de um grupo de pessoas, o tempo que um grupo de estudantes gasta para realizar uma prova, etc.\n",
    "\n",
    "A distribuição normal serve também como base para a **inferência estatística** clássica, sendo a premissa em diversos modelos e métodos.\n",
    "\n",
    "Na distribuição normal, a média, mediana e moda dos dados possuem o mesmo valor. \n",
    "\n",
    "<img src=\"https://dietassessmentprimer.cancer.gov/images/learn/distribution1.jpg\">\n",
    "\n",
    "Usaremos a notação X ~ N($\\mu$,$\\sigma^2$) para representar uma variável aleatória **com distribuição normal** de média $\\mu$ e variância $\\sigma^2$.\n",
    "\n",
    "<img src=\"https://upload.wikimedia.org/wikipedia/commons/thumb/7/74/Normal_Distribution_PDF.svg/1280px-Normal_Distribution_PDF.svg.png\" width=500>\n",
    "\n",
    "A equação da distribuição normal é:\n",
    "\n",
    "<img src=\"https://www.onlinemathlearning.com/image-files/normal-distribution-formula.png\" width=200>\n",
    "\n"
   ]
  },
  {
   "cell_type": "code",
   "execution_count": 2,
   "metadata": {
    "scrolled": true
   },
   "outputs": [
    {
     "data": {
      "text/plain": [
       "[<matplotlib.lines.Line2D at 0x25e72ca8e0>]"
      ]
     },
     "execution_count": 2,
     "metadata": {},
     "output_type": "execute_result"
    },
    {
     "data": {
      "image/png": "[encoded data removed]",
      "text/plain": [
       "<Figure size 432x288 with 1 Axes>"
      ]
     },
     "metadata": {
      "needs_background": "light"
     },
     "output_type": "display_data"
    }
   ],
   "source": [
    "x = np.linspace(-5, 5, 400)\n",
    "\n",
    "mu = 0 \n",
    "sigma = 1\n",
    "# definição explícita da curva\n",
    "y = (1/(sigma*np.sqrt(2*np.pi)))*np.exp(-(x - mu)**2/2*sigma**2)\n",
    "\n",
    "plt.plot(x, y)"
   ]
  },
  {
   "cell_type": "code",
   "execution_count": 3,
   "metadata": {
    "scrolled": true
   },
   "outputs": [
    {
     "data": {
      "text/plain": [
       "[<matplotlib.lines.Line2D at 0x25e73834f0>]"
      ]
     },
     "execution_count": 3,
     "metadata": {},
     "output_type": "execute_result"
    },
    {
     "data": {
      "image/png": "[encoded data removed]",
      "text/plain": [
       "<Figure size 432x288 with 1 Axes>"
      ]
     },
     "metadata": {
      "needs_background": "light"
     },
     "output_type": "display_data"
    }
   ],
   "source": [
    "import scipy\n",
    "\n",
    "x = np.linspace(-5, 5, 400)\n",
    "\n",
    "mu = 0 \n",
    "sigma = 1\n",
    "# usando o scipy\n",
    "y = scipy.stats.norm(loc=mu, scale=sigma).pdf(x)\n",
    "\n",
    "plt.plot(x, y)"
   ]
  },
  {
   "cell_type": "markdown",
   "metadata": {},
   "source": [
    "Na distribuição normal, os dados são distribuídos de forma muito particular, tal que o **desvio padrão** determina a proporção de dados em cada faixa:\n",
    "\n",
    "<img src=\"https://miro.medium.com/max/24000/1*IdGgdrY_n_9_YfkaCh-dag.png\" width=500>\n",
    "\n",
    "<img src=\"https://miro.medium.com/max/24000/1*IZ2II2HYKeoMrdLU5jW6Dw.png\" width=500>"
   ]
  },
  {
   "cell_type": "markdown",
   "metadata": {},
   "source": [
    "___________\n",
    "\n",
    "### 2.1) Testes de Normalidade\n",
    "\n",
    "Vamos agora ver alguns **teste estatísticos** que são utilizados para determinar se uma amostra segue uma distribuição normal ou não.\n",
    "\n",
    "Antes de aplicarmos os testes, devemos saber como interpretá-los. \n",
    "\n",
    "Os testes que faremos vão retornar dois resultados:\n",
    "\n",
    "- **Estatística de teste**: uma quantidade numérica calculada pelo teste utilizando os dados da amostra;\n",
    "- **p-value**: um valor de probabilidade que é utilizado para interpretar o resultado do teste.\n",
    "\n",
    "O teste irá **assumir que a amostra analisada foi construída a partir de uma distribuição normal**. \n",
    "\n",
    "Essa é a **HIPÓTESE NULA ($H_0$) do teste**.\n",
    "\n",
    "O que o p-value nos dá é **a probabilidade de termos encontrado o valor da estatística de teste assumindo a hipótese nula**.\n",
    "\n",
    "Ou seja, se a amostra de fato for normal, qual é a probabilidade de termos encontrado o valor da estatística de teste?\n",
    "\n",
    "Se essa probabilidade for **muito baixa**, quer dizer que **seria extremamente improvável que encontrássemos aquele valor pra estatística de teste se de fato a amostra fosse normal**, e, portanto, dizemos que os dados **nos dão evidência suficiente para rejeitar a hipótese nula: ou seja, a amostra NÃO é normal.**\n",
    "\n",
    "Se, por outro lado, o p-value for alto, isso quer dizer que **falhamos em rejeitar a hipótese nula** -- não podemos dizer que a a amostra *não* é normal. Isso não quer dizer que a hipótese nula é verdadeira -- mas não temos evidências a favor de sua rejeição.\n",
    "\n",
    "Em geral, o p-value ser \"pequeno\" ou \"grande\" se dá em termos de um **npivel de confiança**, denotado $\\alpha$, que normalmente é tomado como  $\\alpha = 5\\%$. \n",
    "\n",
    "Assim, a forma simples de interpretar os resultados do teste, é:\n",
    "\n",
    "- $ p \\leq \\alpha \\ ( p \\leq 0.05) \\ $: rejeitamos a $H_0$: distribuição amostral não é normal;\n",
    "\n",
    "- $ p > \\alpha \\ ( p > 0.05) \\ $: falhamos em rejeitar a $H_0$: distribuição amostral normal;\n",
    "\n",
    "\n",
    "Se você quiser saber mais sobre testes de normalidade, [clique aqui!](https://machinelearningmastery.com/a-gentle-introduction-to-normality-tests-in-python/), ou [aqui](https://towardsdatascience.com/normality-tests-in-python-31e04aa4f411)\n",
    "\n",
    "E se quiser saber mais sobre p-values, sugiro [este vídeo](https://youtu.be/vemZtEM63GY) e [este](https://youtu.be/JQc3yx0-Q9E) pra ter uma ideia como p-values são calculados!\n",
    "\n",
    "Vamos agora conhecer alguns testes! \n",
    "\n",
    "Para isso, utilizaremos [o módulo stats da biblioteca scipy](https://docs.scipy.org/doc/scipy/reference/stats.html)"
   ]
  },
  {
   "cell_type": "markdown",
   "metadata": {},
   "source": [
    "Antes, vamos criar duas amostras, uma claramente normal, e outra não:"
   ]
  },
  {
   "cell_type": "code",
   "execution_count": 4,
   "metadata": {},
   "outputs": [
    {
     "data": {
      "text/plain": [
       "<matplotlib.axes._subplots.AxesSubplot at 0x25e73b72e0>"
      ]
     },
     "execution_count": 4,
     "metadata": {},
     "output_type": "execute_result"
    },
    {
     "data": {
      "image/png": "[encoded data removed]",
      "text/plain": [
       "<Figure size 432x288 with 1 Axes>"
      ]
     },
     "metadata": {
      "needs_background": "light"
     },
     "output_type": "display_data"
    }
   ],
   "source": [
    "np.random.seed(42)\n",
    "normal = np.random.normal(0, 1, 10000)\n",
    "\n",
    "sns.histplot(normal)"
   ]
  },
  {
   "cell_type": "code",
   "execution_count": 5,
   "metadata": {},
   "outputs": [
    {
     "data": {
      "text/plain": [
       "<matplotlib.axes._subplots.AxesSubplot at 0x25e7cfd0d0>"
      ]
     },
     "execution_count": 5,
     "metadata": {},
     "output_type": "execute_result"
    },
    {
     "data": {
      "image/png": "[encoded data removed]",
      "text/plain": [
       "<Figure size 432x288 with 1 Axes>"
      ]
     },
     "metadata": {
      "needs_background": "light"
     },
     "output_type": "display_data"
    }
   ],
   "source": [
    "np.random.seed(42)\n",
    "uniforme = np.random.rand(10000)\n",
    "\n",
    "sns.histplot(uniforme)"
   ]
  },
  {
   "cell_type": "markdown",
   "metadata": {},
   "source": [
    "__D’Agostino’s K^2 Test__\n",
    "\n",
    "O teste K^2 de D’Agostino’s é baseado nas estatísticas descritivas **kurtosis** e **skewness**:\n",
    "\n",
    "- **Skewness** é uma medida de **assimetria** da distribuição, isto é, o quanto ela é deslocada para a esquerda ou direita.\n",
    "    - **A distribuição normal tem skewness igual a 0**\n",
    "\n",
    "- **Kurtosis** quantifica a porção dos dados na **cauda** da distribuição -- ou seja, valores mais extremos.\n",
    "    - **A distribuição normal tem kurtosis igual a 3**\n",
    "\n",
    "<img src=\"https://i.pinimg.com/originals/0f/c7/66/0fc7666e8c1ab2822ad7a8e4fb534b88.gif\" width=500>\n",
    "\n",
    "Para detalhes como o teste funciona, [clique aqui](https://en.wikipedia.org/wiki/D%27Agostino%27s_K-squared_test)\n",
    "\n",
    "A função `normaltest()` do scipy aplica o teste a determinado conjunto de dados. A função retorna ambos a estatística de teste e o respectivo p-value."
   ]
  },
  {
   "cell_type": "code",
   "execution_count": 6,
   "metadata": {},
   "outputs": [
    {
     "name": "stdout",
     "output_type": "stream",
     "text": [
      "Estatística de teste: 0.33214260688733543\n",
      "\n",
      "p-value: 0.8469858390291732\n",
      "\n",
      "Falha em rejeitar H_0: amostra parece ser normal\n"
     ]
    }
   ],
   "source": [
    "# importa o teste\n",
    "from scipy.stats import normaltest\n",
    "    \n",
    "# fazendo o teste\n",
    "test_stat, p = normaltest(normal)\n",
    "\n",
    "print(\"Estatística de teste:\", test_stat)\n",
    "print(\"\\np-value:\", p)\n",
    "\n",
    "# interpretação do teste\n",
    "# nível de confiança de 5%\n",
    "alpha = 0.05\n",
    "\n",
    "if p > alpha:\n",
    "    print(\"\\nFalha em rejeitar H_0: amostra parece ser normal\")\n",
    "else:\n",
    "    print(\"\\nRejeição da H_0: amostra não é normal\")"
   ]
  },
  {
   "cell_type": "markdown",
   "metadata": {},
   "source": [
    "______"
   ]
  },
  {
   "cell_type": "markdown",
   "metadata": {},
   "source": [
    "__Shapiro-Wilk Test__\n",
    "\n",
    "O teste de Shapiro-Wilk é um dos testes de normalidade mais comuns e confiáveis, embora haja algumas sugestões de que o teste funcione melhor para amostras pequenas (algumas milhares de observações ou menos).\n",
    "\n",
    "Para detalhes como o teste funciona, [clique aqui](https://en.wikipedia.org/wiki/Shapiro%E2%80%93Wilk_test)\n",
    "\n",
    "A função `shapiro()` do scipy aplica o teste a determinado conjunto de dados. A função retorna ambos a estatística de teste (W) e o respectivo p-value."
   ]
  },
  {
   "cell_type": "code",
   "execution_count": 7,
   "metadata": {},
   "outputs": [
    {
     "name": "stdout",
     "output_type": "stream",
     "text": [
      "Estatística de teste: 0.9556165337562561\n",
      "\n",
      "p-value: 0.0\n",
      "\n",
      "Rejeição da H_0: amostra não é normal\n"
     ]
    },
    {
     "name": "stderr",
     "output_type": "stream",
     "text": [
      "C:\\Users\\andre\\anaconda3\\lib\\site-packages\\scipy\\stats\\morestats.py:1681: UserWarning: p-value may not be accurate for N > 5000.\n",
      "  warnings.warn(\"p-value may not be accurate for N > 5000.\")\n"
     ]
    }
   ],
   "source": [
    "# importa o teste\n",
    "from scipy.stats import shapiro\n",
    "\n",
    "# fazendo o teste\n",
    "test_stat, p = shapiro(uniforme)\n",
    "\n",
    "print(\"Estatística de teste:\", test_stat)\n",
    "print(\"\\np-value:\", p)\n",
    "\n",
    "# interpretação do teste\n",
    "# nível de confiança de 5%\n",
    "alpha = 0.05\n",
    "\n",
    "if p > alpha:\n",
    "    print(\"\\nFalha em rejeitar H_0: amostra parece ser normal\")\n",
    "else:\n",
    "    print(\"\\nRejeição da H_0: amostra não é normal\")"
   ]
  },
  {
   "cell_type": "markdown",
   "metadata": {},
   "source": [
    "____\n",
    "____\n",
    "____"
   ]
  },
  {
   "cell_type": "markdown",
   "metadata": {},
   "source": [
    "## 3) Estatística Descritiva\n",
    "\n",
    "Como mencionamos, o principal objetivo da estatística descritiva é gerar **medidas que resumam** o conjunto de dados que estamos analisando, ou seja, medidas que descrevam **a distribuição** dos dados, de forma quantitativa. Vamos dar uma olhada nessas medidas!\n",
    "\n",
    "_______"
   ]
  },
  {
   "cell_type": "markdown",
   "metadata": {},
   "source": [
    "### 3.1) Medidas de Posição\n",
    "\n",
    "Estas são medidas que **resumem** algumas propriedades do conjunto de dados:\n",
    "\n",
    "<img src=\"https://i.pinimg.com/originals/3e/8a/90/3e8a90c122ad25240cc46ac075cb0f4c.png\" width=200>\n",
    "\n",
    "#### 3.1.1) Média\n",
    "\n",
    "Seja $X$ uma variável quantitativa e $x_1,x_2,x_3, ...$ os valores assumidos por X. Define-se média de $\\overline{X}$ como sendo :\n",
    "\n",
    "\n",
    "$$\\overline{X} = \\frac{\\sum_{i=1}^{n}x_i}{n}= \\frac{x_1+ x_2 + x_3 +... +x_n}{n}$$"
   ]
  },
  {
   "cell_type": "code",
   "execution_count": 8,
   "metadata": {},
   "outputs": [
    {
     "name": "stdout",
     "output_type": "stream",
     "text": [
      "Dados: [ 7 15 11  8  7 19 11 11  4  8  3  2]\n",
      "\n",
      "Média dos dados: 8.833333333333334\n"
     ]
    }
   ],
   "source": [
    "np.random.seed(42)\n",
    "amostra = np.random.randint(1, 20, 12)\n",
    "\n",
    "print(\"Dados:\", amostra)\n",
    "\n",
    "print(\"\\nMédia dos dados:\", amostra.mean())\n",
    "\n",
    "# podemos usar tb: np.mean(amostra) \n",
    "# ou ainda: sum(amostra)/len(amostra)"
   ]
  },
  {
   "cell_type": "markdown",
   "metadata": {},
   "source": [
    "#### 3.1.1) Mediana\n",
    "\n",
    "A **mediana** de uma variável é um número tal que há o mesmo número de observações maiores e menores do que ele, ocupando assim a **posição central** da série de observações.\n",
    "\n",
    "Assim, para calcularmos a mediana, basta **ordenarmos os dados, do menor pro maior**, e contar o que está no meio dos dados ordenados (se houver número par de dados, pega-se a média entre os dados que estão \"no meio\")\n",
    "\n",
    "- *Exemplo*\n",
    "\n",
    "i) 3,4,**7**,8,8 **mediana=7**       (CASO ÍMPAR)\n",
    "\n",
    "ii) 3,4,**7**,**8**,8,9 **mediana=(7+8)/2=7,5**   (CASO PAR)\n",
    "\n",
    "Logo, podemos definir \n",
    "\n",
    "- - Mediana de $X = X_{\\frac{n+1}{2}}$ `Se tamanho da amostra ímpar`\n",
    "\n",
    "\n",
    "- - Mediana de $X = \\frac{X_{\\frac{n}{2}}+ X_{\\frac{n+1}{2}}}{2}$ `Se tamanho da amostra par`\n",
    "\n",
    "Como os valores de **indice no python** começam em `0`, devemos nos atentar que a equação acima deve ficar como:\n",
    "\n",
    "- - Mediana de $X = X_{\\frac{n}{2}}$ `Se tamanho da amostra par`\n",
    "\n",
    "\n",
    "- - Mediana de $X = \\frac{X_{\\frac{n-1}{2}}+ X_{\\frac{n}{2}}}{2}$ `Se tamanho da amostra ímpar`"
   ]
  },
  {
   "cell_type": "code",
   "execution_count": 9,
   "metadata": {},
   "outputs": [
    {
     "name": "stdout",
     "output_type": "stream",
     "text": [
      "Dados: [ 7 15 11  8  7 19 11 11  4  8  3  2]\n",
      "\n",
      "Dados ordenados: [2, 3, 4, 7, 7, 8, 8, 11, 11, 11, 15, 19]\n",
      "\n",
      "Mediana dos dados: 8.0\n"
     ]
    }
   ],
   "source": [
    "print(\"Dados:\", amostra)\n",
    "\n",
    "print(\"\\nDados ordenados:\", sorted(amostra))\n",
    "\n",
    "print(\"\\nMediana dos dados:\", np.median(amostra))\n",
    "\n",
    "# nesse caso, não tem o método .median(), tem que fazer da maneira acima!"
   ]
  },
  {
   "cell_type": "markdown",
   "metadata": {},
   "source": [
    "#### 3.1.3) Quartis\n",
    "\n",
    "Quartis (Q1, Q2 e Q3): São valores dados a partir do conjunto de observações ordenado em ordem crescente, que dividem os dados **em quatro partes iguais**. \n",
    "\n",
    "- O primeiro quartil, Q1, é o número que deixa 25% das observações abaixo e 75% acima;\n",
    "- O segundo quartil, Q2 é a **mediana**, deixa 50% das observações abaixo e 50% das observações acima;\n",
    "- O terceiro quartil, Q3, deixa 75% das observações abaixo e 25% acima;\n",
    "\n",
    "\n",
    "<img src=\"https://aprendendogestao.com.br/wp-content/uploads/2016/07/QE-Figura-1.png\" width=\"700\" height=\"700\" />"
   ]
  },
  {
   "cell_type": "code",
   "execution_count": 10,
   "metadata": {},
   "outputs": [
    {
     "name": "stdout",
     "output_type": "stream",
     "text": [
      "Dados: [ 7 15 11  8  7 19 11 11  4  8  3  2]\n",
      "\n",
      "Dados Ordenados: [2, 3, 4, 7, 7, 8, 8, 11, 11, 11, 15, 19]\n",
      "\n",
      "Q1: 6.25\n",
      "\n",
      "Q2: 8.0\n",
      "\n",
      "Q3: 11.0\n"
     ]
    }
   ],
   "source": [
    "print(\"Dados:\", amostra)\n",
    "\n",
    "print(\"\\nDados Ordenados:\", sorted(amostra))\n",
    "\n",
    "print(\"\\nQ1:\", np.quantile(amostra, 0.25))\n",
    "print(\"\\nQ2:\", np.quantile(amostra, 0.50))\n",
    "print(\"\\nQ3:\", np.quantile(amostra, 0.75))"
   ]
  },
  {
   "cell_type": "markdown",
   "metadata": {},
   "source": [
    "####  3.1.4) Intervalo Interquartílico (IQR - interquantile range)\n",
    "\n",
    "Por construção, aproximadamente metade dos dados estão entre o 1º e o 3º quartil, isto é, este também pode ser interpretado como **um intervalo de valores tipicamente assumidos pelas observações**, e também é uma **medida de dispersão**, pois nos dá uma ideia da variação que existe entre o Q1 e o Q3!\n"
   ]
  },
  {
   "cell_type": "code",
   "execution_count": 11,
   "metadata": {},
   "outputs": [
    {
     "name": "stdout",
     "output_type": "stream",
     "text": [
      "Dados: [ 7 15 11  8  7 19 11 11  4  8  3  2]\n",
      "\n",
      "IQR: 4.75\n"
     ]
    }
   ],
   "source": [
    "print(\"Dados:\", amostra)\n",
    "\n",
    "iqr = np.quantile(amostra, 0.75) - np.quantile(amostra, 0.25)\n",
    "\n",
    "print(\"\\nIQR:\", iqr)"
   ]
  },
  {
   "cell_type": "markdown",
   "metadata": {},
   "source": [
    "#### 3.1.5) Moda\n",
    "\n",
    "A **moda** é o valor que ocorre com **maior frequencia** em um conjunto de dados \n",
    "\n",
    "Dependendo do conjunto de dados, ele pode ser:\n",
    "\n",
    "- Sem moda: quando nenhum valor se repete \n",
    "\n",
    "- unimodal: Quando existe apenas um valor repetido com maior frequência \n",
    "\n",
    "- multimodal: quando existem mais de um valor com a mesma frequência máxima\n",
    "\n",
    "\n"
   ]
  },
  {
   "cell_type": "code",
   "execution_count": 12,
   "metadata": {},
   "outputs": [
    {
     "name": "stdout",
     "output_type": "stream",
     "text": [
      "Dados: [ 7 15 11  8  7 19 11 11  4  8  3  2]\n",
      "\n",
      "Moda dos dados: 11\n"
     ]
    }
   ],
   "source": [
    "print(\"Dados:\", amostra)\n",
    "\n",
    "# não existe método np.mode(), temos que transformar os dados em uma série\n",
    "print(\"\\nModa dos dados:\", pd.Series(amostra).mode()[0])"
   ]
  },
  {
   "cell_type": "code",
   "execution_count": 17,
   "metadata": {},
   "outputs": [
    {
     "data": {
      "text/plain": [
       "0    11\n",
       "dtype: int32"
      ]
     },
     "execution_count": 17,
     "metadata": {},
     "output_type": "execute_result"
    }
   ],
   "source": [
    "pd.Series(amostra).mode()"
   ]
  },
  {
   "cell_type": "markdown",
   "metadata": {},
   "source": [
    "____"
   ]
  },
  {
   "cell_type": "markdown",
   "metadata": {},
   "source": [
    "### 3.2) Medidas de Dispersão\n",
    "\n",
    "Estas são **medidas de variabilidade**, que indicam o quanto as observações variam ao redor de alguma medida de centralidade (média, mediana, etc.). \n",
    "\n",
    "Em outras palavras, indicam **o quão longe podemos esperar que uma observação esteja do valor típico para aquela variável**. \n",
    "\n",
    "Existem diversas medidas de variabilidade, algumas das quais apresentamos a seguir.\n",
    "\n",
    "#### 3.2.1) Amplitude\n",
    "\n",
    "A amplitude é a **diferença entre o maior e o menor valor observado**. \n",
    "\n",
    "- **Fortemente influenciada** por valores extremos nas observações, como outliers. "
   ]
  },
  {
   "cell_type": "code",
   "execution_count": 18,
   "metadata": {},
   "outputs": [
    {
     "name": "stdout",
     "output_type": "stream",
     "text": [
      "Dados: [ 7 15 11  8  7 19 11 11  4  8  3  2]\n",
      "\n",
      "Dados ordenados: [2, 3, 4, 7, 7, 8, 8, 11, 11, 11, 15, 19]\n",
      "\n",
      "Amplitude: 17\n"
     ]
    }
   ],
   "source": [
    "print(\"Dados:\", amostra)\n",
    "print(\"\\nDados ordenados:\", sorted(amostra))\n",
    "\n",
    "print(\"\\nAmplitude:\", amostra.max()-amostra.min())"
   ]
  },
  {
   "cell_type": "markdown",
   "metadata": {},
   "source": [
    "####  3.2.2) Variância \n",
    "\n",
    "A variância representa **o quanto os dados se afastam da média, em geral**. Por definição, tomamos a média dos **desvios quadráticos da média**:\n",
    "\n",
    "$$ Var(X) = \\sum_{i=1}^{n}\\frac{(x-\\overline{x})^{2}}{n}$$"
   ]
  },
  {
   "cell_type": "code",
   "execution_count": 19,
   "metadata": {},
   "outputs": [
    {
     "name": "stdout",
     "output_type": "stream",
     "text": [
      "Dados: [ 7 15 11  8  7 19 11 11  4  8  3  2]\n",
      "\n",
      "Variância: 22.305555555555557\n"
     ]
    }
   ],
   "source": [
    "print(\"Dados:\", amostra)\n",
    "\n",
    "print(\"\\nVariância:\", np.var(amostra))"
   ]
  },
  {
   "cell_type": "markdown",
   "metadata": {},
   "source": [
    "####  3.2.3) Desvio padrão (std) - standard deviation\n",
    "\n",
    "Note que, da forma como foi definida, a variância é um valor **quadrático** nos dados. Para evitar isso, é comum tirar a raiz quadrada da variância, o que define o **desvio padrão**:\n",
    "\n",
    "$$ \\sigma(X) \\equiv \\sqrt{Var(X)} = \\sqrt{\\sum_{i=1}^{n}\\frac{(x-\\overline{x})^{2}}{n}}$$"
   ]
  },
  {
   "cell_type": "code",
   "execution_count": 20,
   "metadata": {},
   "outputs": [
    {
     "name": "stdout",
     "output_type": "stream",
     "text": [
      "Dados: [ 7 15 11  8  7 19 11 11  4  8  3  2]\n",
      "\n",
      "Desvio Padrão: 4.722875771768251\n"
     ]
    }
   ],
   "source": [
    "print(\"Dados:\", amostra)\n",
    "\n",
    "print(\"\\nDesvio Padrão:\", np.std(amostra))"
   ]
  },
  {
   "cell_type": "markdown",
   "metadata": {},
   "source": [
    "#### 3.2.4) Assimetria - skewness\n",
    "\n",
    "É o **grau de desvio ou afastamento** da **simetria** de uma distribuição.\n",
    "\n",
    "Quando a curva é simétrica, a `média`, a `mediana` e a `moda` coincidem, num mesmo ponto, havendo um perfeito equilíbrio na distribuição. Um exemplo de distribuição simétrica é a **distribuição normal**.\n",
    "\n",
    "Quando o equilíbrio não acontece, a média, a mediana e a moda recaem em pontos diferentes da distribuição, e a distribuição se torna **assimétrica**:\n",
    "\n",
    "<img src=\"https://www.researchgate.net/profile/Marco_Faria/publication/294890337/figure/fig5/AS:668873900716049@1536483373457/a-Negative-skewness-b-Normal-curve-c-Positive-skewness-Durkhure-and-Lodwal-2014.ppm\" width=600>\n",
    "\n",
    "\n",
    "- Distribuição assimétrica **Negativa ou enviesada a esquerda**: quando os valores se concentram na extremidade superior da escala e se distribuem gradativamente em direção à extremidade inferior.\n",
    "\n",
    "- Distribuição assimétrica **Positiva ou enviesada a direita**: quando os valores se concentram na extremidade inferior da escala e se distribuem gradativamente em direção à extremidade superior.\n",
    "\n",
    "A medidade de assimetria é conhecida como **skewness**, sendo calculada como:\n",
    "\n",
    "$$ s(X) = \\frac{1}{\\sigma^3}\\sum_{i=1}^{n}\\frac{(x-\\overline{x})^{3}}{n}$$\n",
    "\n",
    "O valor da skewness nos indica a assimetria da distribuição:\n",
    "\n",
    "- s = 0: distribuição simétrica\n",
    "- s > 0: assimetria à direira\n",
    "- s < 0: assimetria à esquerda"
   ]
  },
  {
   "cell_type": "code",
   "execution_count": 21,
   "metadata": {},
   "outputs": [
    {
     "name": "stdout",
     "output_type": "stream",
     "text": [
      "Dados: [ 7 15 11  8  7 19 11 11  4  8  3  2]\n",
      "\n",
      "Skewness: 0.6106376977108375\n"
     ]
    }
   ],
   "source": [
    "print(\"Dados:\", amostra)\n",
    "\n",
    "print(\"\\nSkewness:\", pd.Series(amostra).skew())"
   ]
  },
  {
   "cell_type": "code",
   "execution_count": 22,
   "metadata": {},
   "outputs": [
    {
     "data": {
      "text/plain": [
       "<matplotlib.axes._subplots.AxesSubplot at 0x25e7cf44f0>"
      ]
     },
     "execution_count": 22,
     "metadata": {},
     "output_type": "execute_result"
    },
    {
     "data": {
      "image/png": "[encoded data removed]",
      "text/plain": [
       "<Figure size 432x288 with 1 Axes>"
      ]
     },
     "metadata": {
      "needs_background": "light"
     },
     "output_type": "display_data"
    }
   ],
   "source": [
    "sns.histplot(amostra, kde=True)"
   ]
  },
  {
   "cell_type": "markdown",
   "metadata": {},
   "source": [
    "___\n"
   ]
  },
  {
   "cell_type": "markdown",
   "metadata": {},
   "source": [
    "Opção: usar as funções estatísticas da biblioteca [scipy!](https://docs.scipy.org/doc/scipy/reference/tutorial/stats.html)\n",
    "\n",
    "Para uma lista das funções estatísticas disponíveis, [clique aqui!](https://docs.scipy.org/doc/scipy/reference/stats.html#summary-statistics)"
   ]
  },
  {
   "cell_type": "markdown",
   "metadata": {},
   "source": [
    "___"
   ]
  },
  {
   "cell_type": "markdown",
   "metadata": {},
   "source": [
    "### 3.3) Tabelas de Frequência\n",
    "\n",
    "A distribuição de frequências é um agrupamento de dados em classes, de tal forma que contabilizamos o número de ocorrências em cada classe.\n",
    "\n",
    "O objetivo é apresentar os dados de uma maneira mais concisa e que nos permita extrair informação sobre seu comportamento. A seguir, apresentamos algumas definições necessárias à construção da distribuição de frequências.\n",
    "\n",
    "**Frequência absoluta (ƒi):** É o número de observações correspondente a cada classe. A frequência absoluta é, geralmente, chamada apenas de frequência.\n",
    "\n",
    "**Frequência relativa (ƒri):** É o quociente entre a frequência absoluta da classe correspondente e a soma das frequências (total observado), isto é, $ \\displaystyle f_{ri}=\\frac{f_i}{\\sum_{j}f_j} $ onde n representa o número total de observações.\n",
    "\n",
    "**Frequência percentual (pi):** É obtida multiplicando a frequência relativa por 100%."
   ]
  },
  {
   "cell_type": "code",
   "execution_count": 24,
   "metadata": {},
   "outputs": [],
   "source": [
    "# como exemplo, vamos usar a base do titanic\n",
    "\n",
    "df = pd.read_csv(\"../datasets/titanic.csv\")"
   ]
  },
  {
   "cell_type": "code",
   "execution_count": 25,
   "metadata": {},
   "outputs": [
    {
     "name": "stdout",
     "output_type": "stream",
     "text": [
      "Tabela de frequência ABSOLUTA da coluna 'Survived':\n"
     ]
    },
    {
     "data": {
      "text/plain": [
       "0    549\n",
       "1    342\n",
       "Name: Survived, dtype: int64"
      ]
     },
     "metadata": {},
     "output_type": "display_data"
    }
   ],
   "source": [
    "print(\"Tabela de frequência ABSOLUTA da coluna 'Survived':\")\n",
    "\n",
    "display(df[\"Survived\"].value_counts())"
   ]
  },
  {
   "cell_type": "code",
   "execution_count": 26,
   "metadata": {},
   "outputs": [
    {
     "name": "stdout",
     "output_type": "stream",
     "text": [
      "Tabela de frequência RELATIVA da coluna 'Survived':\n"
     ]
    },
    {
     "data": {
      "text/plain": [
       "0    0.616162\n",
       "1    0.383838\n",
       "Name: Survived, dtype: float64"
      ]
     },
     "metadata": {},
     "output_type": "display_data"
    }
   ],
   "source": [
    "print(\"Tabela de frequência RELATIVA da coluna 'Survived':\")\n",
    "\n",
    "display(df[\"Survived\"].value_counts(normalize=True))"
   ]
  },
  {
   "cell_type": "code",
   "execution_count": 27,
   "metadata": {},
   "outputs": [
    {
     "name": "stdout",
     "output_type": "stream",
     "text": [
      "Tabela de frequência PERCENTUAL da coluna 'Survived':\n"
     ]
    },
    {
     "data": {
      "text/plain": [
       "0    61.616162\n",
       "1    38.383838\n",
       "Name: Survived, dtype: float64"
      ]
     },
     "metadata": {},
     "output_type": "display_data"
    },
    {
     "data": {
      "text/plain": [
       "0    61.62%\n",
       "1    38.38%\n",
       "Name: Survived, dtype: object"
      ]
     },
     "execution_count": 27,
     "metadata": {},
     "output_type": "execute_result"
    }
   ],
   "source": [
    "print(\"Tabela de frequência PERCENTUAL da coluna 'Survived':\")\n",
    "\n",
    "display(df[\"Survived\"].value_counts(normalize=True)*100)\n",
    "\n",
    "# se quiser colocar as porcentagens, tem que transformar em string, e concatenar com o \"%\"\n",
    "df[\"Survived\"].value_counts(normalize=True).apply(lambda x: str(round(x*100, 2)) + \"%\")"
   ]
  },
  {
   "cell_type": "markdown",
   "metadata": {},
   "source": [
    "Vamos analisar os dados de idade..."
   ]
  },
  {
   "cell_type": "code",
   "execution_count": 28,
   "metadata": {},
   "outputs": [
    {
     "name": "stdout",
     "output_type": "stream",
     "text": [
      "Média de idades: 29.69911764705882\n",
      "Desvio padrão de idades: 14.526497332334044\n",
      "\n",
      "Idade mínima: 0.42\n",
      "\n",
      "Idade Q1: 20.125\n",
      "Mediana de idades: 28.0\n",
      "Idade Q3: 38.0\n",
      "IQR das idades: 17.875\n",
      "\n",
      "Idade máxima: 80.0\n",
      "\n",
      "Skewness das idades: 0.38910778230082704\n",
      "\n",
      "Idade(s) mais comum(s):\n"
     ]
    },
    {
     "data": {
      "text/plain": [
       "0    24.0\n",
       "dtype: float64"
      ]
     },
     "metadata": {},
     "output_type": "display_data"
    }
   ],
   "source": [
    "print(\"Média de idades:\", df[\"Age\"].mean())\n",
    "print(\"Desvio padrão de idades:\", df[\"Age\"].std())\n",
    "\n",
    "print(\"\\nIdade mínima:\", df[\"Age\"].min())\n",
    "\n",
    "print(\"\\nIdade Q1:\", df[\"Age\"].quantile(0.25))\n",
    "print(\"Mediana de idades:\", df[\"Age\"].median())\n",
    "print(\"Idade Q3:\", df[\"Age\"].quantile(0.75))\n",
    "print(\"IQR das idades:\", df[\"Age\"].quantile(0.75) - df[\"Age\"].quantile(0.25))\n",
    "\n",
    "print(\"\\nIdade máxima:\", df[\"Age\"].max())\n",
    "\n",
    "print(\"\\nSkewness das idades:\", df[\"Age\"].skew())\n",
    "\n",
    "print(\"\\nIdade(s) mais comum(s):\")\n",
    "display(df[\"Age\"].mode())"
   ]
  },
  {
   "cell_type": "code",
   "execution_count": 29,
   "metadata": {},
   "outputs": [
    {
     "data": {
      "image/png": "[encoded data removed]",
      "text/plain": [
       "<Figure size 864x432 with 1 Axes>"
      ]
     },
     "metadata": {
      "needs_background": "light"
     },
     "output_type": "display_data"
    }
   ],
   "source": [
    "plt.figure(figsize=(12, 6))\n",
    "\n",
    "plt.title(\"Distribuição de idades dos passageiros do Titanic\", size=18)\n",
    "\n",
    "sns.histplot(df[\"Age\"], kde=True, alpha=0.2)\n",
    "\n",
    "# plotando média\n",
    "plt.axvline(x=df[\"Age\"].mean(), color=\"red\", label=\"média\")\n",
    "\n",
    "# plotando a mediana\n",
    "plt.axvline(df[\"Age\"].median(), color=\"green\", label=\"mediana\")\n",
    "\n",
    "# plotando a(s) moda(s)\n",
    "for i in range(df[\"Age\"].mode().shape[0]):\n",
    "    \n",
    "    plt.axvline(df[\"Age\"].mode()[i], color=\"yellow\", label=\"moda\")\n",
    "\n",
    "plt.legend()\n",
    "plt.show()"
   ]
  },
  {
   "cell_type": "markdown",
   "metadata": {},
   "source": [
    "____\n",
    "\n",
    "### 3.4) Boxplot\n",
    "\n",
    "O boxplot (gráfico de caixa) é um gráfico utilizado para avaliar a distribuição empírica do dados. O boxplot é formado pelo primeiro e terceiro quartil e pela mediana. As hastes **whiskers** inferiores e superiores se estendem, respectivamente, do quartil inferior até o menor valor não inferior ao limite inferior e do quartil superior até o maior valor não superior ao limite superior. Os limites são calculados da forma abaixo\n",
    "\n",
    "Limite inferior: $ \\max\\{\\min(\\text{dados});Q_1-1,5(Q_3-Q_1)\\} $.\n",
    "\n",
    "Limite superior: $ \\min\\{\\max(\\text{dados});Q_3+1,5(Q_3-Q_1)\\} $.\n",
    "\n",
    "Para este caso, os pontos fora destes limites são considerados valores discrepantes (outliers) e são denotados por asterisco (*). A Figura  a seguir apresenta um exemplo do formato de um boxplot.\n",
    "\n",
    "<img src=https://miro.medium.com/max/8000/1*0MPDTLn8KoLApoFvI0P2vQ.png width=500>\n",
    "\n",
    "O boxplot pode ainda ser utilizado para uma comparação visual entre dois ou mais grupos. Por exemplo, duas ou mais caixas são colocadas lado a lado e se compara a variabilidade entre elas, a mediana e assim por diante. Outro ponto importante é a diferença entre os quartis $ (Q_3 - Q_1) $ que é uma medida da variabilidade dos dados."
   ]
  },
  {
   "cell_type": "code",
   "execution_count": 30,
   "metadata": {},
   "outputs": [
    {
     "data": {
      "text/plain": [
       "<matplotlib.axes._subplots.AxesSubplot at 0x25dc627fa0>"
      ]
     },
     "execution_count": 30,
     "metadata": {},
     "output_type": "execute_result"
    },
    {
     "data": {
      "image/png": "[encoded data removed]",
      "text/plain": [
       "<Figure size 432x288 with 1 Axes>"
      ]
     },
     "metadata": {
      "needs_background": "light"
     },
     "output_type": "display_data"
    }
   ],
   "source": [
    "sns.boxplot(data=df, y=\"Age\", x=\"Survived\", hue=\"Sex\")"
   ]
  },
  {
   "cell_type": "code",
   "execution_count": 31,
   "metadata": {},
   "outputs": [
    {
     "data": {
      "text/html": [
       "<div>\n",
       "<style scoped>\n",
       "    .dataframe tbody tr th:only-of-type {\n",
       "        vertical-align: middle;\n",
       "    }\n",
       "\n",
       "    .dataframe tbody tr th {\n",
       "        vertical-align: top;\n",
       "    }\n",
       "\n",
       "    .dataframe thead tr th {\n",
       "        text-align: left;\n",
       "    }\n",
       "\n",
       "    .dataframe thead tr:last-of-type th {\n",
       "        text-align: right;\n",
       "    }\n",
       "</style>\n",
       "<table border=\"1\" class=\"dataframe\">\n",
       "  <thead>\n",
       "    <tr>\n",
       "      <th></th>\n",
       "      <th></th>\n",
       "      <th colspan=\"4\" halign=\"left\">Age</th>\n",
       "    </tr>\n",
       "    <tr>\n",
       "      <th></th>\n",
       "      <th></th>\n",
       "      <th>mean</th>\n",
       "      <th>q1</th>\n",
       "      <th>median</th>\n",
       "      <th>q3</th>\n",
       "    </tr>\n",
       "    <tr>\n",
       "      <th>Survived</th>\n",
       "      <th>Sex</th>\n",
       "      <th></th>\n",
       "      <th></th>\n",
       "      <th></th>\n",
       "      <th></th>\n",
       "    </tr>\n",
       "  </thead>\n",
       "  <tbody>\n",
       "    <tr>\n",
       "      <th rowspan=\"2\" valign=\"top\">0</th>\n",
       "      <th>female</th>\n",
       "      <td>25.046875</td>\n",
       "      <td>16.75</td>\n",
       "      <td>24.5</td>\n",
       "      <td>33.25</td>\n",
       "    </tr>\n",
       "    <tr>\n",
       "      <th>male</th>\n",
       "      <td>31.618056</td>\n",
       "      <td>21.75</td>\n",
       "      <td>29.0</td>\n",
       "      <td>39.25</td>\n",
       "    </tr>\n",
       "    <tr>\n",
       "      <th rowspan=\"2\" valign=\"top\">1</th>\n",
       "      <th>female</th>\n",
       "      <td>28.847716</td>\n",
       "      <td>19.00</td>\n",
       "      <td>28.0</td>\n",
       "      <td>38.00</td>\n",
       "    </tr>\n",
       "    <tr>\n",
       "      <th>male</th>\n",
       "      <td>27.276022</td>\n",
       "      <td>18.00</td>\n",
       "      <td>28.0</td>\n",
       "      <td>36.00</td>\n",
       "    </tr>\n",
       "  </tbody>\n",
       "</table>\n",
       "</div>"
      ],
      "text/plain": [
       "                       Age                     \n",
       "                      mean     q1 median     q3\n",
       "Survived Sex                                   \n",
       "0        female  25.046875  16.75   24.5  33.25\n",
       "         male    31.618056  21.75   29.0  39.25\n",
       "1        female  28.847716  19.00   28.0  38.00\n",
       "         male    27.276022  18.00   28.0  36.00"
      ]
     },
     "execution_count": 31,
     "metadata": {},
     "output_type": "execute_result"
    }
   ],
   "source": [
    "def q1(x):\n",
    "    return x.quantile(0.25)\n",
    "\n",
    "def q3(x):\n",
    "    return x.quantile(0.75)\n",
    "\n",
    "df.groupby([\"Survived\", \"Sex\"])[[\"Age\"]].agg([\"mean\", q1, \"median\", q3])"
   ]
  },
  {
   "cell_type": "markdown",
   "metadata": {},
   "source": [
    "______\n"
   ]
  },
  {
   "cell_type": "markdown",
   "metadata": {},
   "source": [
    "### 3.5) Correlação\n",
    "\n",
    "Um dos conceitos mais importantes em Data Science é o da **correlação**.\n",
    "\n",
    "A partir de estudos de correlação, é possível **descobrirmos como diferentes variáveis interagem**, e isso forma a base da construção de **portfolios diversificados**!\n",
    "\n",
    "<img src=\"https://www.mathsisfun.com/data/images/correlation-examples.svg\" width=700>"
   ]
  },
  {
   "cell_type": "markdown",
   "metadata": {},
   "source": [
    "É bem importante distinguirmos correlações **lineares** de **não lineares**. \n",
    "\n",
    "<img src=\"https://miro.medium.com/max/1414/1*ZMwog-_YcD0qBHc9_1T1-w.png\" width=700>\n",
    "\n",
    "Para fazer a distinção acima, há testes específicos!\n",
    "\n",
    "Para ilustrar as noções de correlação, vamos utilizar uma base de dados de alturas e pesos:"
   ]
  },
  {
   "cell_type": "code",
   "execution_count": 32,
   "metadata": {},
   "outputs": [],
   "source": [
    "df_wh = pd.read_csv('../datasets/weight-height.csv')"
   ]
  },
  {
   "cell_type": "code",
   "execution_count": 33,
   "metadata": {},
   "outputs": [
    {
     "data": {
      "text/html": [
       "<div>\n",
       "<style scoped>\n",
       "    .dataframe tbody tr th:only-of-type {\n",
       "        vertical-align: middle;\n",
       "    }\n",
       "\n",
       "    .dataframe tbody tr th {\n",
       "        vertical-align: top;\n",
       "    }\n",
       "\n",
       "    .dataframe thead th {\n",
       "        text-align: right;\n",
       "    }\n",
       "</style>\n",
       "<table border=\"1\" class=\"dataframe\">\n",
       "  <thead>\n",
       "    <tr style=\"text-align: right;\">\n",
       "      <th></th>\n",
       "      <th>Gender</th>\n",
       "      <th>Height</th>\n",
       "      <th>Weight</th>\n",
       "    </tr>\n",
       "  </thead>\n",
       "  <tbody>\n",
       "    <tr>\n",
       "      <th>0</th>\n",
       "      <td>Male</td>\n",
       "      <td>73.847017</td>\n",
       "      <td>241.893563</td>\n",
       "    </tr>\n",
       "    <tr>\n",
       "      <th>1</th>\n",
       "      <td>Male</td>\n",
       "      <td>68.781904</td>\n",
       "      <td>162.310473</td>\n",
       "    </tr>\n",
       "    <tr>\n",
       "      <th>2</th>\n",
       "      <td>Male</td>\n",
       "      <td>74.110105</td>\n",
       "      <td>212.740856</td>\n",
       "    </tr>\n",
       "    <tr>\n",
       "      <th>3</th>\n",
       "      <td>Male</td>\n",
       "      <td>71.730978</td>\n",
       "      <td>220.042470</td>\n",
       "    </tr>\n",
       "    <tr>\n",
       "      <th>4</th>\n",
       "      <td>Male</td>\n",
       "      <td>69.881796</td>\n",
       "      <td>206.349801</td>\n",
       "    </tr>\n",
       "    <tr>\n",
       "      <th>...</th>\n",
       "      <td>...</td>\n",
       "      <td>...</td>\n",
       "      <td>...</td>\n",
       "    </tr>\n",
       "    <tr>\n",
       "      <th>9995</th>\n",
       "      <td>Female</td>\n",
       "      <td>66.172652</td>\n",
       "      <td>136.777454</td>\n",
       "    </tr>\n",
       "    <tr>\n",
       "      <th>9996</th>\n",
       "      <td>Female</td>\n",
       "      <td>67.067155</td>\n",
       "      <td>170.867906</td>\n",
       "    </tr>\n",
       "    <tr>\n",
       "      <th>9997</th>\n",
       "      <td>Female</td>\n",
       "      <td>63.867992</td>\n",
       "      <td>128.475319</td>\n",
       "    </tr>\n",
       "    <tr>\n",
       "      <th>9998</th>\n",
       "      <td>Female</td>\n",
       "      <td>69.034243</td>\n",
       "      <td>163.852461</td>\n",
       "    </tr>\n",
       "    <tr>\n",
       "      <th>9999</th>\n",
       "      <td>Female</td>\n",
       "      <td>61.944246</td>\n",
       "      <td>113.649103</td>\n",
       "    </tr>\n",
       "  </tbody>\n",
       "</table>\n",
       "<p>10000 rows × 3 columns</p>\n",
       "</div>"
      ],
      "text/plain": [
       "      Gender     Height      Weight\n",
       "0       Male  73.847017  241.893563\n",
       "1       Male  68.781904  162.310473\n",
       "2       Male  74.110105  212.740856\n",
       "3       Male  71.730978  220.042470\n",
       "4       Male  69.881796  206.349801\n",
       "...      ...        ...         ...\n",
       "9995  Female  66.172652  136.777454\n",
       "9996  Female  67.067155  170.867906\n",
       "9997  Female  63.867992  128.475319\n",
       "9998  Female  69.034243  163.852461\n",
       "9999  Female  61.944246  113.649103\n",
       "\n",
       "[10000 rows x 3 columns]"
      ]
     },
     "execution_count": 33,
     "metadata": {},
     "output_type": "execute_result"
    }
   ],
   "source": [
    "df_wh"
   ]
  },
  {
   "cell_type": "code",
   "execution_count": 34,
   "metadata": {},
   "outputs": [
    {
     "data": {
      "text/html": [
       "<div>\n",
       "<style scoped>\n",
       "    .dataframe tbody tr th:only-of-type {\n",
       "        vertical-align: middle;\n",
       "    }\n",
       "\n",
       "    .dataframe tbody tr th {\n",
       "        vertical-align: top;\n",
       "    }\n",
       "\n",
       "    .dataframe thead th {\n",
       "        text-align: right;\n",
       "    }\n",
       "</style>\n",
       "<table border=\"1\" class=\"dataframe\">\n",
       "  <thead>\n",
       "    <tr style=\"text-align: right;\">\n",
       "      <th></th>\n",
       "      <th>Gender</th>\n",
       "      <th>Height</th>\n",
       "      <th>Weight</th>\n",
       "    </tr>\n",
       "  </thead>\n",
       "  <tbody>\n",
       "    <tr>\n",
       "      <th>0</th>\n",
       "      <td>Male</td>\n",
       "      <td>187.571423</td>\n",
       "      <td>109.722200</td>\n",
       "    </tr>\n",
       "    <tr>\n",
       "      <th>1</th>\n",
       "      <td>Male</td>\n",
       "      <td>174.706036</td>\n",
       "      <td>73.623547</td>\n",
       "    </tr>\n",
       "    <tr>\n",
       "      <th>2</th>\n",
       "      <td>Male</td>\n",
       "      <td>188.239668</td>\n",
       "      <td>96.498619</td>\n",
       "    </tr>\n",
       "    <tr>\n",
       "      <th>3</th>\n",
       "      <td>Male</td>\n",
       "      <td>182.196685</td>\n",
       "      <td>99.810610</td>\n",
       "    </tr>\n",
       "    <tr>\n",
       "      <th>4</th>\n",
       "      <td>Male</td>\n",
       "      <td>177.499761</td>\n",
       "      <td>93.599656</td>\n",
       "    </tr>\n",
       "    <tr>\n",
       "      <th>...</th>\n",
       "      <td>...</td>\n",
       "      <td>...</td>\n",
       "      <td>...</td>\n",
       "    </tr>\n",
       "    <tr>\n",
       "      <th>9995</th>\n",
       "      <td>Female</td>\n",
       "      <td>168.078536</td>\n",
       "      <td>62.041846</td>\n",
       "    </tr>\n",
       "    <tr>\n",
       "      <th>9996</th>\n",
       "      <td>Female</td>\n",
       "      <td>170.350573</td>\n",
       "      <td>77.505174</td>\n",
       "    </tr>\n",
       "    <tr>\n",
       "      <th>9997</th>\n",
       "      <td>Female</td>\n",
       "      <td>162.224700</td>\n",
       "      <td>58.276022</td>\n",
       "    </tr>\n",
       "    <tr>\n",
       "      <th>9998</th>\n",
       "      <td>Female</td>\n",
       "      <td>175.346978</td>\n",
       "      <td>74.322989</td>\n",
       "    </tr>\n",
       "    <tr>\n",
       "      <th>9999</th>\n",
       "      <td>Female</td>\n",
       "      <td>157.338385</td>\n",
       "      <td>51.550895</td>\n",
       "    </tr>\n",
       "  </tbody>\n",
       "</table>\n",
       "<p>10000 rows × 3 columns</p>\n",
       "</div>"
      ],
      "text/plain": [
       "      Gender      Height      Weight\n",
       "0       Male  187.571423  109.722200\n",
       "1       Male  174.706036   73.623547\n",
       "2       Male  188.239668   96.498619\n",
       "3       Male  182.196685   99.810610\n",
       "4       Male  177.499761   93.599656\n",
       "...      ...         ...         ...\n",
       "9995  Female  168.078536   62.041846\n",
       "9996  Female  170.350573   77.505174\n",
       "9997  Female  162.224700   58.276022\n",
       "9998  Female  175.346978   74.322989\n",
       "9999  Female  157.338385   51.550895\n",
       "\n",
       "[10000 rows x 3 columns]"
      ]
     },
     "execution_count": 34,
     "metadata": {},
     "output_type": "execute_result"
    }
   ],
   "source": [
    "# passando altura de polegadas pra centimetros\n",
    "df_wh[\"Height\"] = df_wh[\"Height\"] * 2.54\n",
    "\n",
    "# passando peso de libras pra quilos\n",
    "df_wh[\"Weight\"] = df_wh[\"Weight\"] / 2.2046\n",
    "\n",
    "df_wh"
   ]
  },
  {
   "cell_type": "markdown",
   "metadata": {},
   "source": [
    "Será que há alguma correlação entre peso e altura?"
   ]
  },
  {
   "cell_type": "code",
   "execution_count": 35,
   "metadata": {},
   "outputs": [
    {
     "data": {
      "text/plain": [
       "<seaborn.axisgrid.JointGrid at 0x25dc6aa310>"
      ]
     },
     "execution_count": 35,
     "metadata": {},
     "output_type": "execute_result"
    },
    {
     "data": {
      "image/png": "[encoded data removed]",
      "text/plain": [
       "<Figure size 432x432 with 3 Axes>"
      ]
     },
     "metadata": {
      "needs_background": "light"
     },
     "output_type": "display_data"
    }
   ],
   "source": [
    "sns.jointplot(data=df_wh, x=\"Height\", y=\"Weight\", hue=\"Gender\")"
   ]
  },
  {
   "cell_type": "markdown",
   "metadata": {},
   "source": [
    "Aperentemente há uma relação **linear** entre as variáveis! \n",
    "\n",
    "A seguir, veremos como quantificar a correlação observada acima!"
   ]
  },
  {
   "cell_type": "markdown",
   "metadata": {},
   "source": [
    "____\n",
    "\n",
    "### 3.5.1) Coeficiente de correlação de Pearson\n",
    "\n",
    "Este coeficiente expressa a **taxa de relação linear entre duas variáveis numéricas**. Quanto mais próximo de 1 ou -1, mais **linearmente correlacionado estão as variáveis testadas**\n",
    "\n",
    "**Suposições:**\n",
    " - as observações são idependentes uma das outras e identicamente distribuidas.\n",
    " - as observações têm distribuição normal;\n",
    " \n",
    "**Interpretações:**\n",
    " - $H_0$: as amostras são linearmente independentes, isso é, não estão correlacionadas linearmente;\n",
    " - $H_1$: as amostras estão linearmente correlacionadas.\n"
   ]
  },
  {
   "cell_type": "markdown",
   "metadata": {},
   "source": [
    "Vamos dar uma olhada no teste de Pearson:"
   ]
  },
  {
   "cell_type": "code",
   "execution_count": 37,
   "metadata": {},
   "outputs": [
    {
     "data": {
      "text/plain": [
       "(0.9247562987409147, 0.0)"
      ]
     },
     "execution_count": 37,
     "metadata": {},
     "output_type": "execute_result"
    }
   ],
   "source": [
    "import scipy\n",
    "\n",
    "scipy.stats.pearsonr(df_wh[\"Weight\"], df_wh[\"Height\"])"
   ]
  },
  {
   "cell_type": "markdown",
   "metadata": {},
   "source": [
    "Separadamente para os sexos:"
   ]
  },
  {
   "cell_type": "code",
   "execution_count": 38,
   "metadata": {},
   "outputs": [
    {
     "data": {
      "text/plain": [
       "(0.8629788486163177, 0.0)"
      ]
     },
     "execution_count": 38,
     "metadata": {},
     "output_type": "execute_result"
    }
   ],
   "source": [
    "scipy.stats.pearsonr(df_wh[df_wh[\"Gender\"] == \"Male\"][\"Weight\"], df_wh[df_wh[\"Gender\"] == \"Male\"][\"Height\"])"
   ]
  },
  {
   "cell_type": "code",
   "execution_count": 40,
   "metadata": {},
   "outputs": [
    {
     "data": {
      "text/plain": [
       "(0.8496085914186009, 0.0)"
      ]
     },
     "execution_count": 40,
     "metadata": {},
     "output_type": "execute_result"
    }
   ],
   "source": [
    "scipy.stats.pearsonr(df_wh[df_wh[\"Gender\"] == \"Female\"][\"Weight\"], df_wh[df_wh[\"Gender\"] == \"Female\"][\"Height\"])"
   ]
  },
  {
   "cell_type": "markdown",
   "metadata": {},
   "source": [
    "Em ambos os casos (e para todos os dados), obtivemos um coeficiente de pearson bem próxima de 1!\n",
    "\n",
    "E o p-valor foi 0, isso é: rejeitamos $H_0$, o que implica que as duas amostras **estão correlacionadas linearmente**!\n",
    "\n",
    "___________"
   ]
  },
  {
   "cell_type": "markdown",
   "metadata": {},
   "source": [
    "### 5.2) Coeficiente de correlação de Spearman\n",
    "\n",
    "Este coeficiente indica se as amostras possuem correlação *monotônica*, isso é, **se aumentarmos ou diminuimos uma, a outra irá aumentar ou diminuir**. \n",
    "\n",
    "O coeficiente varia entre -1 e 1:\n",
    "\n",
    "> Quanto mais próximo de 1 for o coeficiente, mais positivamente correlacionada as amostras, isso é, se aumentarmos uma, a outra ira aumentar (ou se diminuimos uma, a outra irá diminuir); \n",
    "\n",
    "> Quanto mais próximo de -1 for o resultado, mais negativamente correlacionada estão as variáveis, isso é, aumentando uma, a outra irá dimunuir (ou se diminuímos uma, a outra irá aumentar). \n",
    "\n",
    "> Uma correlação de 0 indica ausência de correlação.\n",
    "\n",
    "**Importante:** o coeficiente de Spearman **não** indica correlação necessariamente linear!\n",
    "\n",
    "**Suposições:** \n",
    " - as observações são idependentes uma das outras e identicamente distribuidas.\n",
    "\n",
    " \n",
    " **Interpretação:**\n",
    " - $H_0$: as variáveis são independentes; ou\n",
    " - $H_1$ as variáveis são monotonicamente dependentes."
   ]
  },
  {
   "cell_type": "markdown",
   "metadata": {},
   "source": [
    "Ao analisarmos os valores da base de altura e peso, é natural que tenhamos um coeficiente de Spearman próximo de 1, dado que percebemos claramente uma relação monotônica entre as variáveis:"
   ]
  },
  {
   "cell_type": "code",
   "execution_count": 41,
   "metadata": {},
   "outputs": [
    {
     "data": {
      "text/plain": [
       "SpearmanrResult(correlation=0.8364885471875417, pvalue=0.0)"
      ]
     },
     "execution_count": 41,
     "metadata": {},
     "output_type": "execute_result"
    }
   ],
   "source": [
    "scipy.stats.spearmanr(df_wh[df_wh[\"Gender\"] == \"Female\"][\"Weight\"], df_wh[df_wh[\"Gender\"] == \"Female\"][\"Height\"])"
   ]
  },
  {
   "cell_type": "code",
   "execution_count": 42,
   "metadata": {},
   "outputs": [
    {
     "data": {
      "text/plain": [
       "SpearmanrResult(correlation=0.8485589833503592, pvalue=0.0)"
      ]
     },
     "execution_count": 42,
     "metadata": {},
     "output_type": "execute_result"
    }
   ],
   "source": [
    "scipy.stats.spearmanr(df_wh[df_wh[\"Gender\"] == \"Male\"][\"Weight\"], df_wh[df_wh[\"Gender\"] == \"Male\"][\"Height\"])"
   ]
  },
  {
   "cell_type": "markdown",
   "metadata": {},
   "source": [
    "___\n",
    "___\n",
    "___"
   ]
  }
 ],
 "metadata": {
  "kernelspec": {
   "display_name": "Python 3",
   "language": "python",
   "name": "python3"
  },
  "language_info": {
   "codemirror_mode": {
    "name": "ipython",
    "version": 3
   },
   "file_extension": ".py",
   "mimetype": "text/x-python",
   "name": "python",
   "nbconvert_exporter": "python",
   "pygments_lexer": "ipython3",
   "version": "3.7.6"
  }
 },
 "nbformat": 4,
 "nbformat_minor": 2
}
